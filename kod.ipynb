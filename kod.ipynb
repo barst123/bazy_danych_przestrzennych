{
 "cells": [
  {
   "cell_type": "code",
   "execution_count": 1,
   "id": "2f1ea72c",
   "metadata": {},
   "outputs": [],
   "source": [
    "import requests"
   ]
  },
  {
   "cell_type": "code",
   "execution_count": 11,
   "id": "93f8b4df",
   "metadata": {},
   "outputs": [],
   "source": [
    "url = 'http://DESKTOP-FP842VV/fmedatadownload/Dashboards/cw10.fmw?email=jan804557%40gmail.com&chmury=10&powiat=powiat%20Szczecin&data_poczatkowa=20230701000000&data_koncowa=20230715000000&api=e94d5a2f-3166-45b0-a9a2-4f192cb8a043&email_klient=jan804557%40gmail.com&haslo=cokolwiek&SourceDataset_SHAPEFILE=C%3A%5CUsers%5Cbartoszstaron%5CDesktop%5CStudia%5C3_rok%5C5_semestr%5Cbazy_danych_przestrzennych%5Ccw10%5Cpowiaty.shp&DestDataset_TIFF=C%3A%5CUsers%5Cbartoszstaron%5CDesktop%5CStudia%5C3_rok%5C5_semestr%5Cbazy_danych_przestrzennych%5Ccw10&opt_showresult=false&opt_servicemode=sync'\n",
    "myobj = {'Authorization': 'fmetoken token=61320b7c55d21553dbac5e05ecf8b03329bbd1ca'}"
   ]
  },
  {
   "cell_type": "code",
   "execution_count": 12,
   "id": "e0ab6f08",
   "metadata": {},
   "outputs": [],
   "source": [
    "x = requests.post(url, headers = myobj)"
   ]
  },
  {
   "cell_type": "code",
   "execution_count": 13,
   "id": "3d76efc2",
   "metadata": {},
   "outputs": [
    {
     "name": "stdout",
     "output_type": "stream",
     "text": [
      "<html>\r\n",
      "    <head>\r\n",
      "        <META http-equiv=\"Content-Type\" content=\"text/html; charset=UTF-8\">\r\n",
      "        <meta http-equiv=\"Content-Type\" content=\"text/html; charset=windows-1252\">\r\n",
      "        <link rel=\"shortcut icon\" href=\"/fmedatadownload/images/favicon-fme-flow.svg\">\r\n",
      "        <link rel=\"stylesheet\" type=\"text/css\" href=\"/fmedatadownload/styles/formatting.css\">\r\n",
      "        <link rel=\"stylesheet\" type=\"text/css\" href=\"/fmedatadownload/styles/formatting-layer2.css\">\r\n",
      "        <link rel=\"stylesheet\" type=\"text/css\" href=\"/fmejobsubmitter/styles/fontello.css\">\r\n",
      "        <title>FME Data Download Service</title>\r\n",
      "    </head>\r\n",
      "    <body>\r\n",
      "        <div id=\"container\">\r\n",
      "            <div id=\"top_banner\">\r\n",
      "                <div id=\"utility_links\"></div>\r\n",
      "            </div>\r\n",
      "            <div id=\"main_container\">\r\n",
      "                <div id=\"main_content\">\r\n",
      "                    <div id=\"inner_content\">\r\n",
      "                        <div>\r\n",
      "                            <center>\r\n",
      "                                <i class=\"thin-icon success_header fa-2x icon-ok-circled2\"></i>\r\n",
      "                                <h1 style=\"display: inline;\">FME Data Download Service Completed Successfully </h1>\r\n",
      "                            </center>\r\n",
      "                        </div>\r\n",
      "                        <p>Please click the following link to download the result of your transformation</p>\r\n",
      "                        <p>\r\n",
      "                            <a href=\"http://DESKTOP-FP842VV/fmedatadownload/results/FME_6D0C6452_1705705206417_21892.zip\">http://DESKTOP-FP842VV/fmedatadownload/results/FME_6D0C6452_1705705206417_21892.zip</a>\r\n",
      "                        </p>\r\n",
      "                    </div>\r\n",
      "                </div>\r\n",
      "            </div>\r\n",
      "        </div>\r\n",
      "        <div id=\"navigation\"></div>\r\n",
      "        <div id=\"logo\">\r\n",
      "            <img src=\"/fmedatadownload/images/Logo-FME-Flow-White-Text.svg\" class=\"safe_logo\" style=\"height: 1.5em; vertical-align:middle\" border=\"0\" alt=\"FME Server\">\r\n",
      "        </div>\r\n",
      "    </body>\r\n",
      "</html>\r\n",
      "\n"
     ]
    }
   ],
   "source": [
    "print(x.text)"
   ]
  },
  {
   "cell_type": "code",
   "execution_count": null,
   "id": "8bb0ee2f",
   "metadata": {},
   "outputs": [],
   "source": []
  }
 ],
 "metadata": {
  "kernelspec": {
   "display_name": "Python 3",
   "language": "python",
   "name": "python3"
  },
  "language_info": {
   "codemirror_mode": {
    "name": "ipython",
    "version": 3
   },
   "file_extension": ".py",
   "mimetype": "text/x-python",
   "name": "python",
   "nbconvert_exporter": "python",
   "pygments_lexer": "ipython3",
   "version": "3.9.11"
  }
 },
 "nbformat": 4,
 "nbformat_minor": 5
}
